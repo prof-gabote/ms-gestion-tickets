{
 "cells": [
  {
   "cell_type": "code",
   "execution_count": 2,
   "id": "bac2d6bb",
   "metadata": {},
   "outputs": [
    {
     "name": "stdout",
     "output_type": "stream",
     "text": [
      "Defaulting to user installation because normal site-packages is not writeable\n",
      "Collecting requests\n",
      "  Downloading requests-2.32.4-py3-none-any.whl.metadata (4.9 kB)\n",
      "Collecting charset_normalizer<4,>=2 (from requests)\n",
      "  Downloading charset_normalizer-3.4.2-cp313-cp313-win_amd64.whl.metadata (36 kB)\n",
      "Collecting idna<4,>=2.5 (from requests)\n",
      "  Downloading idna-3.10-py3-none-any.whl.metadata (10 kB)\n",
      "Collecting urllib3<3,>=1.21.1 (from requests)\n",
      "  Downloading urllib3-2.4.0-py3-none-any.whl.metadata (6.5 kB)\n",
      "Collecting certifi>=2017.4.17 (from requests)\n",
      "  Downloading certifi-2025.4.26-py3-none-any.whl.metadata (2.5 kB)\n",
      "Downloading requests-2.32.4-py3-none-any.whl (64 kB)\n",
      "Downloading certifi-2025.4.26-py3-none-any.whl (159 kB)\n",
      "Downloading charset_normalizer-3.4.2-cp313-cp313-win_amd64.whl (105 kB)\n",
      "Downloading idna-3.10-py3-none-any.whl (70 kB)\n",
      "Downloading urllib3-2.4.0-py3-none-any.whl (128 kB)\n",
      "Installing collected packages: urllib3, idna, charset_normalizer, certifi, requests\n",
      "Successfully installed certifi-2025.4.26 charset_normalizer-3.4.2 idna-3.10 requests-2.32.4 urllib3-2.4.0\n",
      "Note: you may need to restart the kernel to use updated packages.\n"
     ]
    },
    {
     "name": "stderr",
     "output_type": "stream",
     "text": [
      "\n",
      "[notice] A new release of pip is available: 25.0.1 -> 25.1.1\n",
      "[notice] To update, run: python.exe -m pip install --upgrade pip\n"
     ]
    }
   ],
   "source": [
    "%pip install requests"
   ]
  },
  {
   "cell_type": "code",
   "execution_count": 1,
   "id": "35607f5e",
   "metadata": {},
   "outputs": [
    {
     "name": "stdout",
     "output_type": "stream",
     "text": [
      "▶ Creando ticket...\n",
      "✅ Ticket creado: Problema de red\n",
      "🔗 Self link: http://localhost:8081/api/v1/tickets/14\n",
      "\n",
      "▶ Consultando ticket por link self...\n",
      "📝 Detalles:\n",
      "  Título: Problema de red\n",
      "  Descripción: No hay conexión a internet\n",
      "  Enlaces disponibles:\n",
      "    [self] → http://localhost:8081/api/v1/tickets/14\n",
      "    [tickets] → http://localhost:8081/api/v1/tickets\n",
      "    [update] → http://localhost:8081/api/v1/tickets/14\n",
      "    [delete] → http://localhost:8081/api/v1/tickets/14\n"
     ]
    }
   ],
   "source": [
    "import requests\n",
    "\n",
    "headers = {\"Content-Type\": \"application/json\"}\n",
    "base_url = \"http://localhost:8081/api/v1/tickets\"\n",
    "\n",
    "# 1. Crear un nuevo ticket\n",
    "nuevo_ticket = {\n",
    "    \"title\": \"Problema de red\",\n",
    "    \"description\": \"No hay conexión a internet\",\n",
    "    \"status\": \"ABIERTO\",\n",
    "    \"clientId\": 1,\n",
    "    \"categoryId\": 1,\n",
    "    \"categoryName\": \"Soporte\"\n",
    "}\n",
    "\n",
    "print(\"▶ Creando ticket...\")\n",
    "response = requests.post(base_url, json=nuevo_ticket, headers=headers)\n",
    "data = response.json()\n",
    "\n",
    "print(\"✅ Ticket creado:\", data[\"title\"])\n",
    "self_link = data[\"_links\"][\"self\"][\"href\"]\n",
    "print(\"🔗 Self link:\", self_link)\n",
    "\n",
    "# 2. Consultar el recurso usando self\n",
    "print(\"\\n▶ Consultando ticket por link self...\")\n",
    "detalle = requests.get(self_link).json()\n",
    "print(\"📝 Detalles:\")\n",
    "print(f\"  Título: {detalle['title']}\")\n",
    "print(f\"  Descripción: {detalle['description']}\")\n",
    "print(\"  Enlaces disponibles:\")\n",
    "for rel, link in detalle[\"_links\"].items():\n",
    "    print(f\"    [{rel}] → {link['href']}\")"
   ]
  },
  {
   "cell_type": "code",
   "execution_count": 2,
   "id": "87541b9c",
   "metadata": {},
   "outputs": [
    {
     "name": "stdout",
     "output_type": "stream",
     "text": [
      "\n",
      "▶ Actualizando ticket...\n",
      "✅ Ticket actualizado.\n"
     ]
    }
   ],
   "source": [
    "# 3. (Opcional) Actualizar el recurso usando el link \"update\"\n",
    "update_link = detalle[\"_links\"][\"update\"][\"href\"]\n",
    "actualizacion = {\n",
    "    \"title\": \"Problema de red - urgente\",\n",
    "    \"description\": \"Aún sin conexión\",\n",
    "    \"status\": \"EN_PROGRESO\",\n",
    "    \"clientId\": 1,\n",
    "    \"categoryId\": 1,\n",
    "    \"categoryName\": \"Soporte\"\n",
    "}\n",
    "print(\"\\n▶ Actualizando ticket...\")\n",
    "requests.put(update_link, json=actualizacion, headers=headers)\n",
    "print(\"✅ Ticket actualizado.\")\n"
   ]
  },
  {
   "cell_type": "code",
   "execution_count": 3,
   "id": "7026b3e9",
   "metadata": {},
   "outputs": [
    {
     "name": "stdout",
     "output_type": "stream",
     "text": [
      "\n",
      "▶ Eliminando ticket...\n",
      "✅ Ticket eliminado. Código: 204\n"
     ]
    }
   ],
   "source": [
    "# 4. (Opcional) Eliminar el recurso usando el link \"delete\"\n",
    "delete_link = detalle[\"_links\"][\"delete\"][\"href\"]\n",
    "print(\"\\n▶ Eliminando ticket...\")\n",
    "delete_response = requests.delete(delete_link)\n",
    "print(\"✅ Ticket eliminado. Código:\", delete_response.status_code)"
   ]
  }
 ],
 "metadata": {
  "kernelspec": {
   "display_name": "Python 3",
   "language": "python",
   "name": "python3"
  },
  "language_info": {
   "codemirror_mode": {
    "name": "ipython",
    "version": 3
   },
   "file_extension": ".py",
   "mimetype": "text/x-python",
   "name": "python",
   "nbconvert_exporter": "python",
   "pygments_lexer": "ipython3",
   "version": "3.13.3"
  }
 },
 "nbformat": 4,
 "nbformat_minor": 5
}
